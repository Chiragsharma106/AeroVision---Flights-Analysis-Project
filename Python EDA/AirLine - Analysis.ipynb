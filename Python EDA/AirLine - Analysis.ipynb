{
 "cells": [
  {
   "cell_type": "code",
   "execution_count": 96,
   "id": "0725df77-47c9-48e7-a25b-8037fcd8b33f",
   "metadata": {},
   "outputs": [],
   "source": [
    "import pandas as pd\n",
    "import numpy as np\n",
    "import seaborn as sea\n",
    "import matplotlib.pyplot as mtn\n",
    "import os\n",
    "mycolor = '#7a85c1'"
   ]
  },
  {
   "cell_type": "code",
   "execution_count": 3,
   "id": "af691612-933b-4b09-b51c-b0b29d16f46e",
   "metadata": {},
   "outputs": [],
   "source": [
    "folder = r\"C:\\Users\\chira\\Documents\\All Files\\PortFolio Dashboards💸\\#3 FlightDashboard\\Data\""
   ]
  },
  {
   "cell_type": "code",
   "execution_count": 40,
   "id": "799e3239-f766-407a-9fe4-6cff4bb37538",
   "metadata": {},
   "outputs": [],
   "source": [
    "tables = {}\n",
    "\n",
    "for files in os.listdir(folder):\n",
    "    Names = files.replace('.csv', '').replace(' ', '_')\n",
    "    df = pd.read_csv(os.path.join(folder, files))\n",
    "    df.columns = df.columns.str.lower()\n",
    "    tables[Names] = df"
   ]
  },
  {
   "cell_type": "code",
   "execution_count": 41,
   "id": "4b948860-8f96-404d-8ec3-521a07e8f6c3",
   "metadata": {},
   "outputs": [],
   "source": [
    "Bookings = tables['Booking_Data']\n",
    "Customers = tables['Customer_Table']\n",
    "Flights = tables['Flight_Table']"
   ]
  },
  {
   "cell_type": "markdown",
   "id": "c189fb27-a767-44d5-b45f-e3d16e43a1e8",
   "metadata": {},
   "source": [
    "# Tables Details"
   ]
  },
  {
   "cell_type": "markdown",
   "id": "1c7f9ccd-57e7-4361-84c5-33d0c6e7437a",
   "metadata": {},
   "source": [
    "# Bookings - Fact Table"
   ]
  },
  {
   "cell_type": "code",
   "execution_count": 54,
   "id": "3645bb5d-8d7f-4e03-b93e-04fb55ea9b49",
   "metadata": {},
   "outputs": [
    {
     "name": "stdout",
     "output_type": "stream",
     "text": [
      "<class 'pandas.core.frame.DataFrame'>\n",
      "RangeIndex: 4524 entries, 0 to 4523\n",
      "Data columns (total 10 columns):\n",
      " #   Column          Non-Null Count  Dtype         \n",
      "---  ------          --------------  -----         \n",
      " 0   bookingid       4524 non-null   object        \n",
      " 1   customerid      4524 non-null   object        \n",
      " 2   flightid        4524 non-null   object        \n",
      " 3   bookingdate     4524 non-null   datetime64[ns]\n",
      " 4   paymentmethod   4524 non-null   object        \n",
      " 5   discountused    4524 non-null   float64       \n",
      " 6   finalfare       4524 non-null   float64       \n",
      " 7   bookingchannel  4524 non-null   object        \n",
      " 8   flight status   4524 non-null   object        \n",
      " 9   class type      4524 non-null   object        \n",
      "dtypes: datetime64[ns](1), float64(2), object(7)\n",
      "memory usage: 353.6+ KB\n"
     ]
    },
    {
     "data": {
      "text/html": [
       "<div>\n",
       "<style scoped>\n",
       "    .dataframe tbody tr th:only-of-type {\n",
       "        vertical-align: middle;\n",
       "    }\n",
       "\n",
       "    .dataframe tbody tr th {\n",
       "        vertical-align: top;\n",
       "    }\n",
       "\n",
       "    .dataframe thead th {\n",
       "        text-align: right;\n",
       "    }\n",
       "</style>\n",
       "<table border=\"1\" class=\"dataframe\">\n",
       "  <thead>\n",
       "    <tr style=\"text-align: right;\">\n",
       "      <th></th>\n",
       "      <th>bookingdate</th>\n",
       "      <th>discountused</th>\n",
       "      <th>finalfare</th>\n",
       "    </tr>\n",
       "  </thead>\n",
       "  <tbody>\n",
       "    <tr>\n",
       "      <th>count</th>\n",
       "      <td>4524</td>\n",
       "      <td>4524.000000</td>\n",
       "      <td>4524.000000</td>\n",
       "    </tr>\n",
       "    <tr>\n",
       "      <th>mean</th>\n",
       "      <td>2023-09-26 03:40:15.915119616</td>\n",
       "      <td>0.149344</td>\n",
       "      <td>7491.474978</td>\n",
       "    </tr>\n",
       "    <tr>\n",
       "      <th>min</th>\n",
       "      <td>2022-01-02 00:00:00</td>\n",
       "      <td>0.000000</td>\n",
       "      <td>2.090000</td>\n",
       "    </tr>\n",
       "    <tr>\n",
       "      <th>25%</th>\n",
       "      <td>2022-12-16 00:00:00</td>\n",
       "      <td>0.070000</td>\n",
       "      <td>3704.617500</td>\n",
       "    </tr>\n",
       "    <tr>\n",
       "      <th>50%</th>\n",
       "      <td>2023-09-26 00:00:00</td>\n",
       "      <td>0.150000</td>\n",
       "      <td>7455.825000</td>\n",
       "    </tr>\n",
       "    <tr>\n",
       "      <th>75%</th>\n",
       "      <td>2024-07-15 00:00:00</td>\n",
       "      <td>0.230000</td>\n",
       "      <td>11304.402500</td>\n",
       "    </tr>\n",
       "    <tr>\n",
       "      <th>max</th>\n",
       "      <td>2025-12-05 00:00:00</td>\n",
       "      <td>0.300000</td>\n",
       "      <td>14999.250000</td>\n",
       "    </tr>\n",
       "    <tr>\n",
       "      <th>std</th>\n",
       "      <td>NaN</td>\n",
       "      <td>0.087393</td>\n",
       "      <td>4331.609600</td>\n",
       "    </tr>\n",
       "  </tbody>\n",
       "</table>\n",
       "</div>"
      ],
      "text/plain": [
       "                         bookingdate  discountused     finalfare\n",
       "count                           4524   4524.000000   4524.000000\n",
       "mean   2023-09-26 03:40:15.915119616      0.149344   7491.474978\n",
       "min              2022-01-02 00:00:00      0.000000      2.090000\n",
       "25%              2022-12-16 00:00:00      0.070000   3704.617500\n",
       "50%              2023-09-26 00:00:00      0.150000   7455.825000\n",
       "75%              2024-07-15 00:00:00      0.230000  11304.402500\n",
       "max              2025-12-05 00:00:00      0.300000  14999.250000\n",
       "std                              NaN      0.087393   4331.609600"
      ]
     },
     "execution_count": 54,
     "metadata": {},
     "output_type": "execute_result"
    }
   ],
   "source": [
    "Bookings.info()\n",
    "\n",
    "Bookings['bookingdate'] = pd.to_datetime(Bookings['bookingdate'], format = 'mixed')\n",
    "Bookings.describe()"
   ]
  },
  {
   "cell_type": "markdown",
   "id": "4ed56da2-e740-42bf-81f0-f98806795f9e",
   "metadata": {},
   "source": [
    "# Customers Table"
   ]
  },
  {
   "cell_type": "code",
   "execution_count": 51,
   "id": "1dd76d52-f27e-411e-b12c-7d4668007f31",
   "metadata": {},
   "outputs": [
    {
     "name": "stdout",
     "output_type": "stream",
     "text": [
      "<class 'pandas.core.frame.DataFrame'>\n",
      "RangeIndex: 100 entries, 0 to 99\n",
      "Data columns (total 7 columns):\n",
      " #   Column          Non-Null Count  Dtype \n",
      "---  ------          --------------  ----- \n",
      " 0   customerid      100 non-null    object\n",
      " 1   name            100 non-null    object\n",
      " 2   age             100 non-null    int64 \n",
      " 3   gender          100 non-null    object\n",
      " 4   country         100 non-null    object\n",
      " 5   city            100 non-null    object\n",
      " 6   membershiptier  100 non-null    object\n",
      "dtypes: int64(1), object(6)\n",
      "memory usage: 5.6+ KB\n"
     ]
    },
    {
     "data": {
      "text/html": [
       "<div>\n",
       "<style scoped>\n",
       "    .dataframe tbody tr th:only-of-type {\n",
       "        vertical-align: middle;\n",
       "    }\n",
       "\n",
       "    .dataframe tbody tr th {\n",
       "        vertical-align: top;\n",
       "    }\n",
       "\n",
       "    .dataframe thead th {\n",
       "        text-align: right;\n",
       "    }\n",
       "</style>\n",
       "<table border=\"1\" class=\"dataframe\">\n",
       "  <thead>\n",
       "    <tr style=\"text-align: right;\">\n",
       "      <th></th>\n",
       "      <th>age</th>\n",
       "    </tr>\n",
       "  </thead>\n",
       "  <tbody>\n",
       "    <tr>\n",
       "      <th>count</th>\n",
       "      <td>100.000000</td>\n",
       "    </tr>\n",
       "    <tr>\n",
       "      <th>mean</th>\n",
       "      <td>43.350000</td>\n",
       "    </tr>\n",
       "    <tr>\n",
       "      <th>std</th>\n",
       "      <td>14.904663</td>\n",
       "    </tr>\n",
       "    <tr>\n",
       "      <th>min</th>\n",
       "      <td>19.000000</td>\n",
       "    </tr>\n",
       "    <tr>\n",
       "      <th>25%</th>\n",
       "      <td>31.750000</td>\n",
       "    </tr>\n",
       "    <tr>\n",
       "      <th>50%</th>\n",
       "      <td>42.000000</td>\n",
       "    </tr>\n",
       "    <tr>\n",
       "      <th>75%</th>\n",
       "      <td>57.000000</td>\n",
       "    </tr>\n",
       "    <tr>\n",
       "      <th>max</th>\n",
       "      <td>69.000000</td>\n",
       "    </tr>\n",
       "  </tbody>\n",
       "</table>\n",
       "</div>"
      ],
      "text/plain": [
       "              age\n",
       "count  100.000000\n",
       "mean    43.350000\n",
       "std     14.904663\n",
       "min     19.000000\n",
       "25%     31.750000\n",
       "50%     42.000000\n",
       "75%     57.000000\n",
       "max     69.000000"
      ]
     },
     "execution_count": 51,
     "metadata": {},
     "output_type": "execute_result"
    }
   ],
   "source": [
    "Customers.info()\n",
    "Customers.describe()"
   ]
  },
  {
   "cell_type": "markdown",
   "id": "b04d115f-0c8f-4b4e-8743-fbca1ba2516e",
   "metadata": {},
   "source": [
    "# Flights Table - Dim Table"
   ]
  },
  {
   "cell_type": "code",
   "execution_count": 57,
   "id": "3802413e-d174-4124-8e01-b8a8728ccfd9",
   "metadata": {},
   "outputs": [
    {
     "name": "stdout",
     "output_type": "stream",
     "text": [
      "<class 'pandas.core.frame.DataFrame'>\n",
      "RangeIndex: 200 entries, 0 to 199\n",
      "Data columns (total 11 columns):\n",
      " #   Column           Non-Null Count  Dtype         \n",
      "---  ------           --------------  -----         \n",
      " 0   flightid         200 non-null    object        \n",
      " 1   airline          200 non-null    object        \n",
      " 2   sourcecity       200 non-null    object        \n",
      " 3   destinationcity  200 non-null    object        \n",
      " 4   departuredate    200 non-null    datetime64[ns]\n",
      " 5   arrivaldate      200 non-null    datetime64[ns]\n",
      " 6   durationhrs      200 non-null    float64       \n",
      " 7   distancekm       200 non-null    float64       \n",
      " 8   flightclass      200 non-null    object        \n",
      " 9   ticketprice      200 non-null    float64       \n",
      " 10  bookingstatus    200 non-null    object        \n",
      "dtypes: datetime64[ns](2), float64(3), object(6)\n",
      "memory usage: 17.3+ KB\n"
     ]
    }
   ],
   "source": [
    "Flights['departuredate'] = pd.to_datetime(Flights['departuredate'], format = 'mixed')\n",
    "Flights['arrivaldate'] = pd.to_datetime(Flights['arrivaldate'], format = 'mixed')\n",
    "\n",
    "Flights.info()"
   ]
  },
  {
   "cell_type": "markdown",
   "id": "b8524e70-ae90-45f7-b6e5-945fefb3795c",
   "metadata": {},
   "source": [
    "### 1.\tDistribution of ticket prices across different flight classes."
   ]
  },
  {
   "cell_type": "code",
   "execution_count": 64,
   "id": "63cb7868-b17d-4a07-8e8f-b7b498b56cff",
   "metadata": {},
   "outputs": [
    {
     "data": {
      "text/html": [
       "<div>\n",
       "<style scoped>\n",
       "    .dataframe tbody tr th:only-of-type {\n",
       "        vertical-align: middle;\n",
       "    }\n",
       "\n",
       "    .dataframe tbody tr th {\n",
       "        vertical-align: top;\n",
       "    }\n",
       "\n",
       "    .dataframe thead th {\n",
       "        text-align: right;\n",
       "    }\n",
       "</style>\n",
       "<table border=\"1\" class=\"dataframe\">\n",
       "  <thead>\n",
       "    <tr style=\"text-align: right;\">\n",
       "      <th></th>\n",
       "      <th>flightclass</th>\n",
       "      <th>ticketprice</th>\n",
       "    </tr>\n",
       "  </thead>\n",
       "  <tbody>\n",
       "    <tr>\n",
       "      <th>0</th>\n",
       "      <td>Business</td>\n",
       "      <td>9545.2</td>\n",
       "    </tr>\n",
       "    <tr>\n",
       "      <th>1</th>\n",
       "      <td>Economy</td>\n",
       "      <td>9265.6</td>\n",
       "    </tr>\n",
       "  </tbody>\n",
       "</table>\n",
       "</div>"
      ],
      "text/plain": [
       "  flightclass  ticketprice\n",
       "0    Business       9545.2\n",
       "1     Economy       9265.6"
      ]
     },
     "execution_count": 64,
     "metadata": {},
     "output_type": "execute_result"
    }
   ],
   "source": [
    "Distribution = round(Flights.groupby('flightclass')['ticketprice'].mean().reset_index(),1)\n",
    "Distribution"
   ]
  },
  {
   "cell_type": "markdown",
   "id": "79ff4e3f-5d01-4e93-b5a6-5742f21ac0c1",
   "metadata": {},
   "source": [
    "### 2.\tTrend analysis of bookings over time (monthly/quarterly)."
   ]
  },
  {
   "cell_type": "code",
   "execution_count": 93,
   "id": "9eebeaa2-ea61-4fdc-9333-c9be3f125f2c",
   "metadata": {},
   "outputs": [],
   "source": [
    "Bookings['Month'] = Bookings['bookingdate'].dt.month_name()\n",
    "Bookings['Sort'] = Bookings['bookingdate'].dt.month\n",
    "Bookings['Quarter'] = Bookings['bookingdate'].dt.quarter\n",
    "Bookings['Year'] = Bookings['bookingdate'].dt.year"
   ]
  },
  {
   "cell_type": "code",
   "execution_count": 98,
   "id": "f247d709-3fc3-4092-9bab-c26b8036e3ee",
   "metadata": {},
   "outputs": [],
   "source": [
    "MonthDis = Bookings.groupby(['Month', 'Sort']).size().reset_index(name = 'bookings').sort_values(by = 'Sort')"
   ]
  },
  {
   "cell_type": "code",
   "execution_count": 99,
   "id": "effd69fa-abbb-497d-81a7-68673ad50ded",
   "metadata": {},
   "outputs": [
    {
     "data": {
      "text/html": [
       "<div>\n",
       "<style scoped>\n",
       "    .dataframe tbody tr th:only-of-type {\n",
       "        vertical-align: middle;\n",
       "    }\n",
       "\n",
       "    .dataframe tbody tr th {\n",
       "        vertical-align: top;\n",
       "    }\n",
       "\n",
       "    .dataframe thead th {\n",
       "        text-align: right;\n",
       "    }\n",
       "</style>\n",
       "<table border=\"1\" class=\"dataframe\">\n",
       "  <thead>\n",
       "    <tr style=\"text-align: right;\">\n",
       "      <th></th>\n",
       "      <th>Month</th>\n",
       "      <th>Sort</th>\n",
       "      <th>bookings</th>\n",
       "    </tr>\n",
       "  </thead>\n",
       "  <tbody>\n",
       "    <tr>\n",
       "      <th>4</th>\n",
       "      <td>January</td>\n",
       "      <td>1</td>\n",
       "      <td>469</td>\n",
       "    </tr>\n",
       "    <tr>\n",
       "      <th>3</th>\n",
       "      <td>February</td>\n",
       "      <td>2</td>\n",
       "      <td>322</td>\n",
       "    </tr>\n",
       "    <tr>\n",
       "      <th>7</th>\n",
       "      <td>March</td>\n",
       "      <td>3</td>\n",
       "      <td>432</td>\n",
       "    </tr>\n",
       "    <tr>\n",
       "      <th>0</th>\n",
       "      <td>April</td>\n",
       "      <td>4</td>\n",
       "      <td>464</td>\n",
       "    </tr>\n",
       "    <tr>\n",
       "      <th>8</th>\n",
       "      <td>May</td>\n",
       "      <td>5</td>\n",
       "      <td>381</td>\n",
       "    </tr>\n",
       "    <tr>\n",
       "      <th>6</th>\n",
       "      <td>June</td>\n",
       "      <td>6</td>\n",
       "      <td>337</td>\n",
       "    </tr>\n",
       "    <tr>\n",
       "      <th>5</th>\n",
       "      <td>July</td>\n",
       "      <td>7</td>\n",
       "      <td>401</td>\n",
       "    </tr>\n",
       "    <tr>\n",
       "      <th>1</th>\n",
       "      <td>August</td>\n",
       "      <td>8</td>\n",
       "      <td>363</td>\n",
       "    </tr>\n",
       "    <tr>\n",
       "      <th>11</th>\n",
       "      <td>September</td>\n",
       "      <td>9</td>\n",
       "      <td>371</td>\n",
       "    </tr>\n",
       "    <tr>\n",
       "      <th>10</th>\n",
       "      <td>October</td>\n",
       "      <td>10</td>\n",
       "      <td>317</td>\n",
       "    </tr>\n",
       "    <tr>\n",
       "      <th>9</th>\n",
       "      <td>November</td>\n",
       "      <td>11</td>\n",
       "      <td>293</td>\n",
       "    </tr>\n",
       "    <tr>\n",
       "      <th>2</th>\n",
       "      <td>December</td>\n",
       "      <td>12</td>\n",
       "      <td>374</td>\n",
       "    </tr>\n",
       "  </tbody>\n",
       "</table>\n",
       "</div>"
      ],
      "text/plain": [
       "        Month  Sort  bookings\n",
       "4     January     1       469\n",
       "3    February     2       322\n",
       "7       March     3       432\n",
       "0       April     4       464\n",
       "8         May     5       381\n",
       "6        June     6       337\n",
       "5        July     7       401\n",
       "1      August     8       363\n",
       "11  September     9       371\n",
       "10    October    10       317\n",
       "9    November    11       293\n",
       "2    December    12       374"
      ]
     },
     "execution_count": 99,
     "metadata": {},
     "output_type": "execute_result"
    }
   ],
   "source": [
    "MonthDis"
   ]
  },
  {
   "cell_type": "markdown",
   "id": "8decffb4-03f5-484b-b2c6-a683056e43bd",
   "metadata": {},
   "source": [
    "## Month Analysis"
   ]
  },
  {
   "cell_type": "code",
   "execution_count": 100,
   "id": "70ddb05a-f00a-4a1c-8867-63a75b8e6f18",
   "metadata": {},
   "outputs": [
    {
     "data": {
      "image/png": "[encoded data removed]",
      "text/plain": [
       "<Figure size 1200x500 with 1 Axes>"
      ]
     },
     "metadata": {},
     "output_type": "display_data"
    }
   ],
   "source": [
    "mtn.figure(figsize = (12,5))\n",
    "mtn.plot(MonthDis['Month'], MonthDis['bookings'], color = mycolor, marker = 'o')\n",
    "mtn.title('MonthDistribution of Bookings')\n",
    "mtn.show()"
   ]
  },
  {
   "cell_type": "markdown",
   "id": "dcdbf609-90be-4b79-84cf-df5deb06709e",
   "metadata": {},
   "source": [
    "## Quarter Analysis"
   ]
  },
  {
   "cell_type": "code",
   "execution_count": 116,
   "id": "256a7923-c26f-44f2-94f7-28f800718fce",
   "metadata": {},
   "outputs": [
    {
     "data": {
      "image/png": "[encoded data removed]",
      "text/plain": [
       "<Figure size 1600x600 with 1 Axes>"
      ]
     },
     "metadata": {},
     "output_type": "display_data"
    }
   ],
   "source": [
    "QuarterDis['YearQuarter'] = QuarterDis['Year'].astype(str) + '-Q' + QuarterDis['Quarter'].astype(str)\n",
    "\n",
    "# Plot\n",
    "\n",
    "mtn.figure(figsize=(16,6))\n",
    "mtn.plot(QuarterDis['YearQuarter'], QuarterDis['bookings'], marker='o', color= mycolor)\n",
    "\n",
    "mtn.title(\"Quarterly Bookings Trend\", fontsize=14)\n",
    "mtn.xlabel(\"Year-Quarter\", fontsize=12)\n",
    "mtn.ylabel(\"Bookings\", fontsize=12)\n",
    "mtn.grid(True, linestyle='--', alpha=0.6)\n",
    "mtn.show()"
   ]
  },
  {
   "cell_type": "markdown",
   "id": "f41cbb35-6096-47a5-aeb7-1b25dfe74cf1",
   "metadata": {},
   "source": [
    "### 3.\tCancellation vs. on-time vs. delayed percentages across airlines."
   ]
  },
  {
   "cell_type": "code",
   "execution_count": 134,
   "id": "c8cfa5b1-9fdf-4c96-809d-cc42dfb066ee",
   "metadata": {},
   "outputs": [],
   "source": [
    "Flights['Booked'] = np.where(Flights['bookingstatus'] == 'Booked', 1, 0)\n",
    "Flights['Cancelled'] = np.where(Flights['bookingstatus'] == 'Canceled', 1, 0)\n"
   ]
  },
  {
   "cell_type": "code",
   "execution_count": 150,
   "id": "e82f748b-1e78-4f95-a1f9-151b14fd5a83",
   "metadata": {},
   "outputs": [],
   "source": [
    "Matrix = Flights.groupby('airline').agg(\n",
    "    TotalBooked = ('Booked', 'sum'),\n",
    "    TotalCancelled = ('Cancelled', 'sum'),\n",
    "    TotalBookings = ('bookingstatus', 'count')\n",
    ").reset_index()"
   ]
  },
  {
   "cell_type": "code",
   "execution_count": 155,
   "id": "684b2323-5d6c-4147-895c-8ff693fd060b",
   "metadata": {},
   "outputs": [],
   "source": [
    "Matrix['Booked%'] = round((Matrix['TotalBooked'] * 100.0/Matrix['TotalBookings']),1)\n",
    "Matrix['Cancelled%'] = round((Matrix['TotalCancelled'] * 100.0/Matrix['TotalBookings']),1)"
   ]
  },
  {
   "cell_type": "code",
   "execution_count": 157,
   "id": "32af0212-d5f3-4794-9cde-42784613bf0b",
   "metadata": {},
   "outputs": [
    {
     "data": {
      "text/html": [
       "<div>\n",
       "<style scoped>\n",
       "    .dataframe tbody tr th:only-of-type {\n",
       "        vertical-align: middle;\n",
       "    }\n",
       "\n",
       "    .dataframe tbody tr th {\n",
       "        vertical-align: top;\n",
       "    }\n",
       "\n",
       "    .dataframe thead th {\n",
       "        text-align: right;\n",
       "    }\n",
       "</style>\n",
       "<table border=\"1\" class=\"dataframe\">\n",
       "  <thead>\n",
       "    <tr style=\"text-align: right;\">\n",
       "      <th></th>\n",
       "      <th>airline</th>\n",
       "      <th>Booked%</th>\n",
       "      <th>Cancelled%</th>\n",
       "    </tr>\n",
       "  </thead>\n",
       "  <tbody>\n",
       "    <tr>\n",
       "      <th>0</th>\n",
       "      <td>Air India</td>\n",
       "      <td>45.5</td>\n",
       "      <td>54.5</td>\n",
       "    </tr>\n",
       "    <tr>\n",
       "      <th>1</th>\n",
       "      <td>AirAsia India</td>\n",
       "      <td>62.9</td>\n",
       "      <td>37.1</td>\n",
       "    </tr>\n",
       "    <tr>\n",
       "      <th>2</th>\n",
       "      <td>GoAir</td>\n",
       "      <td>48.7</td>\n",
       "      <td>51.3</td>\n",
       "    </tr>\n",
       "    <tr>\n",
       "      <th>3</th>\n",
       "      <td>IndiGo</td>\n",
       "      <td>27.6</td>\n",
       "      <td>72.4</td>\n",
       "    </tr>\n",
       "    <tr>\n",
       "      <th>4</th>\n",
       "      <td>SpiceJet</td>\n",
       "      <td>48.5</td>\n",
       "      <td>51.5</td>\n",
       "    </tr>\n",
       "    <tr>\n",
       "      <th>5</th>\n",
       "      <td>Vistara</td>\n",
       "      <td>54.8</td>\n",
       "      <td>45.2</td>\n",
       "    </tr>\n",
       "  </tbody>\n",
       "</table>\n",
       "</div>"
      ],
      "text/plain": [
       "         airline  Booked%  Cancelled%\n",
       "0      Air India     45.5        54.5\n",
       "1  AirAsia India     62.9        37.1\n",
       "2          GoAir     48.7        51.3\n",
       "3         IndiGo     27.6        72.4\n",
       "4       SpiceJet     48.5        51.5\n",
       "5        Vistara     54.8        45.2"
      ]
     },
     "execution_count": 157,
     "metadata": {},
     "output_type": "execute_result"
    }
   ],
   "source": [
    "Matrix[['airline', 'Booked%', 'Cancelled%']]"
   ]
  },
  {
   "cell_type": "markdown",
   "id": "ea2e1aac-584f-440c-babd-0e05d5e58dcd",
   "metadata": {},
   "source": [
    "### 4.\tHeatmap showing correlation between Distance, Duration, and Ticket Price."
   ]
  },
  {
   "cell_type": "code",
   "execution_count": 162,
   "id": "560f1bc8-4a47-42e9-bb54-0f6c3d3e3ebb",
   "metadata": {},
   "outputs": [],
   "source": [
    "matrix = Flights[['durationhrs', 'distancekm', 'ticketprice']].corr()"
   ]
  },
  {
   "cell_type": "code",
   "execution_count": 164,
   "id": "514643cf-4342-416f-b05d-1d7da1993733",
   "metadata": {},
   "outputs": [
    {
     "data": {
      "image/png": "[encoded data removed]",
      "text/plain": [
       "<Figure size 500x500 with 2 Axes>"
      ]
     },
     "metadata": {},
     "output_type": "display_data"
    }
   ],
   "source": [
    "mtn.figure(figsize = (5,5))\n",
    "sea.heatmap(matrix, annot = True, cmap = 'coolwarm')\n",
    "mtn.show()"
   ]
  },
  {
   "cell_type": "markdown",
   "id": "7fc5054d-5035-4a16-bfc2-f2ff2e96af82",
   "metadata": {},
   "source": [
    "### 5.\tCustomer age distribution across different Membership Tiers."
   ]
  },
  {
   "cell_type": "code",
   "execution_count": 165,
   "id": "4c65610b-7d4b-47ad-b7a5-6608639ec28d",
   "metadata": {},
   "outputs": [
    {
     "data": {
      "text/html": [
       "<div>\n",
       "<style scoped>\n",
       "    .dataframe tbody tr th:only-of-type {\n",
       "        vertical-align: middle;\n",
       "    }\n",
       "\n",
       "    .dataframe tbody tr th {\n",
       "        vertical-align: top;\n",
       "    }\n",
       "\n",
       "    .dataframe thead th {\n",
       "        text-align: right;\n",
       "    }\n",
       "</style>\n",
       "<table border=\"1\" class=\"dataframe\">\n",
       "  <thead>\n",
       "    <tr style=\"text-align: right;\">\n",
       "      <th></th>\n",
       "      <th>customerid</th>\n",
       "      <th>name</th>\n",
       "      <th>age</th>\n",
       "      <th>gender</th>\n",
       "      <th>country</th>\n",
       "      <th>city</th>\n",
       "      <th>membershiptier</th>\n",
       "    </tr>\n",
       "  </thead>\n",
       "  <tbody>\n",
       "    <tr>\n",
       "      <th>0</th>\n",
       "      <td>CUST1000</td>\n",
       "      <td>Allison Hill</td>\n",
       "      <td>56</td>\n",
       "      <td>Male</td>\n",
       "      <td>India</td>\n",
       "      <td>Hyderabad</td>\n",
       "      <td>Platinum</td>\n",
       "    </tr>\n",
       "    <tr>\n",
       "      <th>1</th>\n",
       "      <td>CUST1001</td>\n",
       "      <td>Noah Rhodes</td>\n",
       "      <td>69</td>\n",
       "      <td>Male</td>\n",
       "      <td>India</td>\n",
       "      <td>Lucknow</td>\n",
       "      <td>Platinum</td>\n",
       "    </tr>\n",
       "    <tr>\n",
       "      <th>2</th>\n",
       "      <td>CUST1002</td>\n",
       "      <td>Angie Henderson</td>\n",
       "      <td>46</td>\n",
       "      <td>Male</td>\n",
       "      <td>India</td>\n",
       "      <td>Ahmedabad</td>\n",
       "      <td>Platinum</td>\n",
       "    </tr>\n",
       "    <tr>\n",
       "      <th>3</th>\n",
       "      <td>CUST1003</td>\n",
       "      <td>Daniel Wagner</td>\n",
       "      <td>32</td>\n",
       "      <td>Male</td>\n",
       "      <td>India</td>\n",
       "      <td>Jaipur</td>\n",
       "      <td>Gold</td>\n",
       "    </tr>\n",
       "    <tr>\n",
       "      <th>4</th>\n",
       "      <td>CUST1004</td>\n",
       "      <td>Cristian Santos</td>\n",
       "      <td>60</td>\n",
       "      <td>Male</td>\n",
       "      <td>India</td>\n",
       "      <td>Ahmedabad</td>\n",
       "      <td>Silver</td>\n",
       "    </tr>\n",
       "    <tr>\n",
       "      <th>...</th>\n",
       "      <td>...</td>\n",
       "      <td>...</td>\n",
       "      <td>...</td>\n",
       "      <td>...</td>\n",
       "      <td>...</td>\n",
       "      <td>...</td>\n",
       "      <td>...</td>\n",
       "    </tr>\n",
       "    <tr>\n",
       "      <th>95</th>\n",
       "      <td>CUST1095</td>\n",
       "      <td>Anna Henderson</td>\n",
       "      <td>42</td>\n",
       "      <td>Female</td>\n",
       "      <td>India</td>\n",
       "      <td>Chennai</td>\n",
       "      <td>Gold</td>\n",
       "    </tr>\n",
       "    <tr>\n",
       "      <th>96</th>\n",
       "      <td>CUST1096</td>\n",
       "      <td>Aaron Wise</td>\n",
       "      <td>62</td>\n",
       "      <td>Female</td>\n",
       "      <td>India</td>\n",
       "      <td>Chennai</td>\n",
       "      <td>Silver</td>\n",
       "    </tr>\n",
       "    <tr>\n",
       "      <th>97</th>\n",
       "      <td>CUST1097</td>\n",
       "      <td>Deborah Figueroa</td>\n",
       "      <td>58</td>\n",
       "      <td>Female</td>\n",
       "      <td>India</td>\n",
       "      <td>Ahmedabad</td>\n",
       "      <td>Silver</td>\n",
       "    </tr>\n",
       "    <tr>\n",
       "      <th>98</th>\n",
       "      <td>CUST1098</td>\n",
       "      <td>Jessica Smith</td>\n",
       "      <td>46</td>\n",
       "      <td>Female</td>\n",
       "      <td>India</td>\n",
       "      <td>Jaipur</td>\n",
       "      <td>Silver</td>\n",
       "    </tr>\n",
       "    <tr>\n",
       "      <th>99</th>\n",
       "      <td>CUST1099</td>\n",
       "      <td>Stephen Mckee</td>\n",
       "      <td>32</td>\n",
       "      <td>Female</td>\n",
       "      <td>India</td>\n",
       "      <td>Jaipur</td>\n",
       "      <td>Platinum</td>\n",
       "    </tr>\n",
       "  </tbody>\n",
       "</table>\n",
       "<p>100 rows × 7 columns</p>\n",
       "</div>"
      ],
      "text/plain": [
       "   customerid              name  age  gender country       city membershiptier\n",
       "0    CUST1000      Allison Hill   56    Male   India  Hyderabad       Platinum\n",
       "1    CUST1001       Noah Rhodes   69    Male   India    Lucknow       Platinum\n",
       "2    CUST1002   Angie Henderson   46    Male   India  Ahmedabad       Platinum\n",
       "3    CUST1003     Daniel Wagner   32    Male   India     Jaipur           Gold\n",
       "4    CUST1004   Cristian Santos   60    Male   India  Ahmedabad         Silver\n",
       "..        ...               ...  ...     ...     ...        ...            ...\n",
       "95   CUST1095    Anna Henderson   42  Female   India    Chennai           Gold\n",
       "96   CUST1096        Aaron Wise   62  Female   India    Chennai         Silver\n",
       "97   CUST1097  Deborah Figueroa   58  Female   India  Ahmedabad         Silver\n",
       "98   CUST1098     Jessica Smith   46  Female   India     Jaipur         Silver\n",
       "99   CUST1099     Stephen Mckee   32  Female   India     Jaipur       Platinum\n",
       "\n",
       "[100 rows x 7 columns]"
      ]
     },
     "execution_count": 165,
     "metadata": {},
     "output_type": "execute_result"
    }
   ],
   "source": []
  },
  {
   "cell_type": "code",
   "execution_count": 171,
   "id": "fe496204-579b-4c73-9752-a81ba089a621",
   "metadata": {},
   "outputs": [
    {
     "data": {
      "text/html": [
       "<div>\n",
       "<style scoped>\n",
       "    .dataframe tbody tr th:only-of-type {\n",
       "        vertical-align: middle;\n",
       "    }\n",
       "\n",
       "    .dataframe tbody tr th {\n",
       "        vertical-align: top;\n",
       "    }\n",
       "\n",
       "    .dataframe thead th {\n",
       "        text-align: right;\n",
       "    }\n",
       "</style>\n",
       "<table border=\"1\" class=\"dataframe\">\n",
       "  <thead>\n",
       "    <tr style=\"text-align: right;\">\n",
       "      <th></th>\n",
       "      <th>AgeGroup</th>\n",
       "      <th>membershiptier</th>\n",
       "      <th>Total</th>\n",
       "    </tr>\n",
       "  </thead>\n",
       "  <tbody>\n",
       "    <tr>\n",
       "      <th>11</th>\n",
       "      <td>46-60</td>\n",
       "      <td>Silver</td>\n",
       "      <td>12</td>\n",
       "    </tr>\n",
       "    <tr>\n",
       "      <th>12</th>\n",
       "      <td>60+</td>\n",
       "      <td>Gold</td>\n",
       "      <td>10</td>\n",
       "    </tr>\n",
       "    <tr>\n",
       "      <th>6</th>\n",
       "      <td>36-45</td>\n",
       "      <td>Gold</td>\n",
       "      <td>10</td>\n",
       "    </tr>\n",
       "    <tr>\n",
       "      <th>3</th>\n",
       "      <td>26-35</td>\n",
       "      <td>Gold</td>\n",
       "      <td>9</td>\n",
       "    </tr>\n",
       "    <tr>\n",
       "      <th>7</th>\n",
       "      <td>36-45</td>\n",
       "      <td>Platinum</td>\n",
       "      <td>8</td>\n",
       "    </tr>\n",
       "    <tr>\n",
       "      <th>10</th>\n",
       "      <td>46-60</td>\n",
       "      <td>Platinum</td>\n",
       "      <td>8</td>\n",
       "    </tr>\n",
       "    <tr>\n",
       "      <th>1</th>\n",
       "      <td>18-25</td>\n",
       "      <td>Platinum</td>\n",
       "      <td>7</td>\n",
       "    </tr>\n",
       "    <tr>\n",
       "      <th>5</th>\n",
       "      <td>26-35</td>\n",
       "      <td>Silver</td>\n",
       "      <td>7</td>\n",
       "    </tr>\n",
       "    <tr>\n",
       "      <th>2</th>\n",
       "      <td>18-25</td>\n",
       "      <td>Silver</td>\n",
       "      <td>6</td>\n",
       "    </tr>\n",
       "    <tr>\n",
       "      <th>14</th>\n",
       "      <td>60+</td>\n",
       "      <td>Silver</td>\n",
       "      <td>5</td>\n",
       "    </tr>\n",
       "    <tr>\n",
       "      <th>8</th>\n",
       "      <td>36-45</td>\n",
       "      <td>Silver</td>\n",
       "      <td>5</td>\n",
       "    </tr>\n",
       "    <tr>\n",
       "      <th>13</th>\n",
       "      <td>60+</td>\n",
       "      <td>Platinum</td>\n",
       "      <td>4</td>\n",
       "    </tr>\n",
       "    <tr>\n",
       "      <th>4</th>\n",
       "      <td>26-35</td>\n",
       "      <td>Platinum</td>\n",
       "      <td>4</td>\n",
       "    </tr>\n",
       "    <tr>\n",
       "      <th>9</th>\n",
       "      <td>46-60</td>\n",
       "      <td>Gold</td>\n",
       "      <td>3</td>\n",
       "    </tr>\n",
       "    <tr>\n",
       "      <th>0</th>\n",
       "      <td>18-25</td>\n",
       "      <td>Gold</td>\n",
       "      <td>2</td>\n",
       "    </tr>\n",
       "  </tbody>\n",
       "</table>\n",
       "</div>"
      ],
      "text/plain": [
       "   AgeGroup membershiptier  Total\n",
       "11    46-60         Silver     12\n",
       "12      60+           Gold     10\n",
       "6     36-45           Gold     10\n",
       "3     26-35           Gold      9\n",
       "7     36-45       Platinum      8\n",
       "10    46-60       Platinum      8\n",
       "1     18-25       Platinum      7\n",
       "5     26-35         Silver      7\n",
       "2     18-25         Silver      6\n",
       "14      60+         Silver      5\n",
       "8     36-45         Silver      5\n",
       "13      60+       Platinum      4\n",
       "4     26-35       Platinum      4\n",
       "9     46-60           Gold      3\n",
       "0     18-25           Gold      2"
      ]
     },
     "execution_count": 171,
     "metadata": {},
     "output_type": "execute_result"
    }
   ],
   "source": [
    "bins = [0, 25, 35, 45, 60, 100]   # age ranges\n",
    "labels = ['18-25', '26-35', '36-45', '46-60', '60+']\n",
    "\n",
    "Customers['AgeGroup'] = pd.cut(Customers['age'], bins=bins, labels=labels, right=True)\n",
    "\n",
    "Customers.groupby(['AgeGroup', 'membershiptier'], observed = True).size().reset_index(name = 'Total').sort_values(by = 'Total', ascending = False)"
   ]
  },
  {
   "cell_type": "markdown",
   "id": "1d5b8a88-a441-4fa1-829e-5fe214e232b8",
   "metadata": {},
   "source": [
    "### 6.\tRevenue contribution breakdown by payment methods."
   ]
  },
  {
   "cell_type": "code",
   "execution_count": 174,
   "id": "0a5021f7-364d-4cce-990d-520d0b42bdf5",
   "metadata": {},
   "outputs": [
    {
     "data": {
      "text/html": [
       "<div>\n",
       "<style scoped>\n",
       "    .dataframe tbody tr th:only-of-type {\n",
       "        vertical-align: middle;\n",
       "    }\n",
       "\n",
       "    .dataframe tbody tr th {\n",
       "        vertical-align: top;\n",
       "    }\n",
       "\n",
       "    .dataframe thead th {\n",
       "        text-align: right;\n",
       "    }\n",
       "</style>\n",
       "<table border=\"1\" class=\"dataframe\">\n",
       "  <thead>\n",
       "    <tr style=\"text-align: right;\">\n",
       "      <th></th>\n",
       "      <th>paymentmethod</th>\n",
       "      <th>Revenue</th>\n",
       "    </tr>\n",
       "  </thead>\n",
       "  <tbody>\n",
       "    <tr>\n",
       "      <th>0</th>\n",
       "      <td>Credit Card</td>\n",
       "      <td>8295520.87</td>\n",
       "    </tr>\n",
       "    <tr>\n",
       "      <th>1</th>\n",
       "      <td>Debit Card</td>\n",
       "      <td>8298123.44</td>\n",
       "    </tr>\n",
       "    <tr>\n",
       "      <th>2</th>\n",
       "      <td>Net Banking</td>\n",
       "      <td>8166597.43</td>\n",
       "    </tr>\n",
       "    <tr>\n",
       "      <th>3</th>\n",
       "      <td>UPI</td>\n",
       "      <td>9131191.06</td>\n",
       "    </tr>\n",
       "  </tbody>\n",
       "</table>\n",
       "</div>"
      ],
      "text/plain": [
       "  paymentmethod     Revenue\n",
       "0   Credit Card  8295520.87\n",
       "1    Debit Card  8298123.44\n",
       "2   Net Banking  8166597.43\n",
       "3           UPI  9131191.06"
      ]
     },
     "execution_count": 174,
     "metadata": {},
     "output_type": "execute_result"
    }
   ],
   "source": [
    "Bookings.groupby('paymentmethod')['finalfare'].sum().reset_index(name = 'Revenue')"
   ]
  },
  {
   "cell_type": "markdown",
   "id": "cdc0f7d8-af8c-43a1-8e39-d6b951737c1c",
   "metadata": {},
   "source": [
    "### 7.\tAverage discount usage rate across booking channels."
   ]
  },
  {
   "cell_type": "code",
   "execution_count": 182,
   "id": "d1ea49d1-7d15-4b9d-819a-39aaded031d8",
   "metadata": {},
   "outputs": [
    {
     "data": {
      "text/html": [
       "<div>\n",
       "<style scoped>\n",
       "    .dataframe tbody tr th:only-of-type {\n",
       "        vertical-align: middle;\n",
       "    }\n",
       "\n",
       "    .dataframe tbody tr th {\n",
       "        vertical-align: top;\n",
       "    }\n",
       "\n",
       "    .dataframe thead th {\n",
       "        text-align: right;\n",
       "    }\n",
       "</style>\n",
       "<table border=\"1\" class=\"dataframe\">\n",
       "  <thead>\n",
       "    <tr style=\"text-align: right;\">\n",
       "      <th></th>\n",
       "      <th>bookingchannel</th>\n",
       "      <th>discountused</th>\n",
       "    </tr>\n",
       "  </thead>\n",
       "  <tbody>\n",
       "    <tr>\n",
       "      <th>0</th>\n",
       "      <td>Call Centre</td>\n",
       "      <td>0.1465</td>\n",
       "    </tr>\n",
       "    <tr>\n",
       "      <th>1</th>\n",
       "      <td>Mobile App</td>\n",
       "      <td>0.1505</td>\n",
       "    </tr>\n",
       "    <tr>\n",
       "      <th>2</th>\n",
       "      <td>Travel Agent</td>\n",
       "      <td>0.1499</td>\n",
       "    </tr>\n",
       "    <tr>\n",
       "      <th>3</th>\n",
       "      <td>Website</td>\n",
       "      <td>0.1503</td>\n",
       "    </tr>\n",
       "  </tbody>\n",
       "</table>\n",
       "</div>"
      ],
      "text/plain": [
       "  bookingchannel  discountused\n",
       "0    Call Centre        0.1465\n",
       "1     Mobile App        0.1505\n",
       "2   Travel Agent        0.1499\n",
       "3        Website        0.1503"
      ]
     },
     "execution_count": 182,
     "metadata": {},
     "output_type": "execute_result"
    }
   ],
   "source": [
    "round(Bookings.groupby('bookingchannel')['discountused'].mean().reset_index(),4)"
   ]
  },
  {
   "cell_type": "markdown",
   "id": "b4382c9c-89ca-422b-920f-5adf47199d43",
   "metadata": {},
   "source": [
    "### 8.\tCompare final fares between Business, Economy, and First Class across airlines."
   ]
  },
  {
   "cell_type": "code",
   "execution_count": 199,
   "id": "52c430ae-f456-4253-bb3a-146cb8b13a71",
   "metadata": {},
   "outputs": [],
   "source": [
    "Class = round((Bookings.groupby('class type')['finalfare'].mean().reset_index().sort_values(by = 'finalfare', ascending = False)),1)"
   ]
  },
  {
   "cell_type": "code",
   "execution_count": 201,
   "id": "c8b56799-181b-4ca8-88aa-8a11a444bcb5",
   "metadata": {},
   "outputs": [
    {
     "data": {
      "image/png": "[encoded data removed]",
      "text/plain": [
       "<Figure size 400x500 with 1 Axes>"
      ]
     },
     "metadata": {},
     "output_type": "display_data"
    }
   ],
   "source": [
    "mtn.figure(figsize = (4,5))\n",
    "ax = sea.barplot(x = 'class type', y = 'finalfare', data = Class, color = mycolor)\n",
    "ax.bar_label(ax.containers[0])\n",
    "mtn.show()"
   ]
  },
  {
   "cell_type": "markdown",
   "id": "ba83c6aa-cdb7-4c6b-adcd-6e31596af554",
   "metadata": {},
   "source": [
    "### 9.\tIdentify top 5 cities (customers’ city) contributing maximum revenue."
   ]
  },
  {
   "cell_type": "code",
   "execution_count": 219,
   "id": "912ee7ed-2941-4b95-a390-72f50d05de83",
   "metadata": {},
   "outputs": [],
   "source": [
    "CustomersRevenue = Bookings.groupby('customerid')['finalfare'].sum().reset_index()\n",
    "\n",
    "CityTable = Customers.merge(CustomersRevenue, on = 'customerid', how = 'inner').groupby('city')['finalfare'].sum().reset_index().sort_values(by = 'finalfare', ascending = False).head()"
   ]
  },
  {
   "cell_type": "code",
   "execution_count": 224,
   "id": "346bafdc-2b60-47b6-8f31-03623b68c147",
   "metadata": {},
   "outputs": [
    {
     "data": {
      "image/png": "[encoded data removed]",
      "text/plain": [
       "<Figure size 600x500 with 1 Axes>"
      ]
     },
     "metadata": {},
     "output_type": "display_data"
    }
   ],
   "source": [
    "mtn.figure(figsize = (6,5))\n",
    "ax = sea.barplot(y = 'city', x = 'finalfare', data = CityTable, color = mycolor)\n",
    "mtn.title('Top 5 Cities by Revenue')\n",
    "mtn.show()"
   ]
  },
  {
   "cell_type": "markdown",
   "id": "0daccc6c-5b68-45b5-9e05-06502969b944",
   "metadata": {},
   "source": [
    "### 10.\tGender-wise spending patterns across flight classes."
   ]
  },
  {
   "cell_type": "code",
   "execution_count": 231,
   "id": "a77489c3-c558-4f29-ae13-03dcaf1aad70",
   "metadata": {},
   "outputs": [],
   "source": [
    "Combined = Bookings.merge(Customers, on = 'customerid', how = 'inner')"
   ]
  },
  {
   "cell_type": "code",
   "execution_count": 238,
   "id": "6c14101a-128a-4b3c-90c8-63ade5caeb33",
   "metadata": {},
   "outputs": [],
   "source": [
    "Table = Combined.groupby(['gender', 'city'])['finalfare'].sum().reset_index()"
   ]
  },
  {
   "cell_type": "code",
   "execution_count": 241,
   "id": "44b40743-b601-49d1-9da3-82c265c91630",
   "metadata": {},
   "outputs": [
    {
     "data": {
      "text/html": [
       "<div>\n",
       "<style scoped>\n",
       "    .dataframe tbody tr th:only-of-type {\n",
       "        vertical-align: middle;\n",
       "    }\n",
       "\n",
       "    .dataframe tbody tr th {\n",
       "        vertical-align: top;\n",
       "    }\n",
       "\n",
       "    .dataframe thead th {\n",
       "        text-align: right;\n",
       "    }\n",
       "</style>\n",
       "<table border=\"1\" class=\"dataframe\">\n",
       "  <thead>\n",
       "    <tr style=\"text-align: right;\">\n",
       "      <th></th>\n",
       "      <th>gender</th>\n",
       "      <th>city</th>\n",
       "      <th>finalfare</th>\n",
       "    </tr>\n",
       "  </thead>\n",
       "  <tbody>\n",
       "    <tr>\n",
       "      <th>5</th>\n",
       "      <td>Female</td>\n",
       "      <td>Jaipur</td>\n",
       "      <td>2109076.97</td>\n",
       "    </tr>\n",
       "    <tr>\n",
       "      <th>13</th>\n",
       "      <td>Male</td>\n",
       "      <td>Delhi</td>\n",
       "      <td>3710433.66</td>\n",
       "    </tr>\n",
       "  </tbody>\n",
       "</table>\n",
       "</div>"
      ],
      "text/plain": [
       "    gender    city   finalfare\n",
       "5   Female  Jaipur  2109076.97\n",
       "13    Male   Delhi  3710433.66"
      ]
     },
     "execution_count": 241,
     "metadata": {},
     "output_type": "execute_result"
    }
   ],
   "source": [
    "Table.loc[Table.groupby('gender')['finalfare'].idxmax()]"
   ]
  },
  {
   "cell_type": "markdown",
   "id": "82e4ad20-688a-461c-9480-071217f5cceb",
   "metadata": {},
   "source": [
    "### 11. Top 5 Routes showing the highest revenue in 2025"
   ]
  },
  {
   "cell_type": "code",
   "execution_count": 248,
   "id": "bac6f3d0-fa4c-4197-9b98-3f2832777ea1",
   "metadata": {},
   "outputs": [],
   "source": [
    "Flights['Route'] = Flights['sourcecity'] + ' => ' + Flights['destinationcity']"
   ]
  },
  {
   "cell_type": "code",
   "execution_count": 253,
   "id": "5ce3a4f7-9ab4-459e-8275-537dfbeb97d8",
   "metadata": {},
   "outputs": [],
   "source": [
    "Combined = Bookings.groupby('flightid')['finalfare'].sum().reset_index().merge(Flights, on = 'flightid', how = 'inner')"
   ]
  },
  {
   "cell_type": "code",
   "execution_count": 259,
   "id": "658f91b7-c2c0-4b46-aac5-c4e1d1727b63",
   "metadata": {},
   "outputs": [],
   "source": [
    "Distribution = Combined.groupby('Route')['finalfare'].sum().reset_index().sort_values(by = 'finalfare', ascending = False).head()"
   ]
  },
  {
   "cell_type": "code",
   "execution_count": 267,
   "id": "1915f711-953e-46bf-90e9-39d9ec8a5e0b",
   "metadata": {},
   "outputs": [
    {
     "data": {
      "image/png": "[encoded data removed]",
      "text/plain": [
       "<Figure size 1100x500 with 1 Axes>"
      ]
     },
     "metadata": {},
     "output_type": "display_data"
    }
   ],
   "source": [
    "mtn.figure(figsize = (11,5))\n",
    "ax = sea.barplot(x = 'Route', y = 'finalfare', data = Distribution, color = mycolor)\n",
    "ax.bar_label(ax.containers[0], fmt = '%.0f')\n",
    "mtn.show()"
   ]
  },
  {
   "cell_type": "markdown",
   "id": "0b588e49-e081-4291-9c15-54f6fe840f11",
   "metadata": {},
   "source": [
    "### 12.\tBookingChannel performance comparison: average delays and cancellations."
   ]
  },
  {
   "cell_type": "code",
   "execution_count": 283,
   "id": "70898797-862c-4f4c-98d9-85e40d2552b2",
   "metadata": {},
   "outputs": [],
   "source": [
    "Bookings['Cancelled'] = np.where(Bookings['flight status'] == 'Cancel', 1,0)\n",
    "Bookings['Delayed'] = np.where(Bookings['flight status'] == 'Delayed', 1,0)"
   ]
  },
  {
   "cell_type": "code",
   "execution_count": 289,
   "id": "66825465-6a75-400a-be3c-3d5ab550d1dc",
   "metadata": {},
   "outputs": [],
   "source": [
    "matrix = Bookings.groupby('bookingchannel').agg(\n",
    "    Cancelled = ('Cancelled', 'sum'),\n",
    "    Delayed = ('Delayed', 'sum'),\n",
    "    Total = ('bookingid', 'count')\n",
    ").reset_index()"
   ]
  },
  {
   "cell_type": "code",
   "execution_count": 293,
   "id": "b23e5acf-9fdc-47fd-a3f3-041f81db24a7",
   "metadata": {},
   "outputs": [],
   "source": [
    "matrix['Cancelled%'] = round(matrix['Cancelled'] *100.0/matrix['Total'],1)\n",
    "matrix['Delayed%'] = round(matrix['Delayed'] * 100.0/matrix['Total'],1)"
   ]
  },
  {
   "cell_type": "code",
   "execution_count": 299,
   "id": "a5ff5826-d264-422a-96da-8db4e0fc5f84",
   "metadata": {},
   "outputs": [
    {
     "data": {
      "text/html": [
       "<div>\n",
       "<style scoped>\n",
       "    .dataframe tbody tr th:only-of-type {\n",
       "        vertical-align: middle;\n",
       "    }\n",
       "\n",
       "    .dataframe tbody tr th {\n",
       "        vertical-align: top;\n",
       "    }\n",
       "\n",
       "    .dataframe thead th {\n",
       "        text-align: right;\n",
       "    }\n",
       "</style>\n",
       "<table border=\"1\" class=\"dataframe\">\n",
       "  <thead>\n",
       "    <tr style=\"text-align: right;\">\n",
       "      <th></th>\n",
       "      <th>bookingchannel</th>\n",
       "      <th>Cancelled%</th>\n",
       "      <th>Delayed%</th>\n",
       "    </tr>\n",
       "  </thead>\n",
       "  <tbody>\n",
       "    <tr>\n",
       "      <th>0</th>\n",
       "      <td>Call Centre</td>\n",
       "      <td>35.1</td>\n",
       "      <td>33.8</td>\n",
       "    </tr>\n",
       "    <tr>\n",
       "      <th>1</th>\n",
       "      <td>Mobile App</td>\n",
       "      <td>35.5</td>\n",
       "      <td>30.3</td>\n",
       "    </tr>\n",
       "    <tr>\n",
       "      <th>2</th>\n",
       "      <td>Travel Agent</td>\n",
       "      <td>35.2</td>\n",
       "      <td>32.9</td>\n",
       "    </tr>\n",
       "    <tr>\n",
       "      <th>3</th>\n",
       "      <td>Website</td>\n",
       "      <td>32.2</td>\n",
       "      <td>33.2</td>\n",
       "    </tr>\n",
       "  </tbody>\n",
       "</table>\n",
       "</div>"
      ],
      "text/plain": [
       "  bookingchannel  Cancelled%  Delayed%\n",
       "0    Call Centre        35.1      33.8\n",
       "1     Mobile App        35.5      30.3\n",
       "2   Travel Agent        35.2      32.9\n",
       "3        Website        32.2      33.2"
      ]
     },
     "execution_count": 299,
     "metadata": {},
     "output_type": "execute_result"
    }
   ],
   "source": [
    "matrix[['bookingchannel', 'Cancelled%', 'Delayed%']]"
   ]
  },
  {
   "cell_type": "code",
   "execution_count": null,
   "id": "c1c508a5-2033-46b5-b41f-4610f92f9897",
   "metadata": {},
   "outputs": [],
   "source": []
  }
 ],
 "metadata": {
  "kernelspec": {
   "display_name": "Python 3 (ipykernel)",
   "language": "python",
   "name": "python3"
  },
  "language_info": {
   "codemirror_mode": {
    "name": "ipython",
    "version": 3
   },
   "file_extension": ".py",
   "mimetype": "text/x-python",
   "name": "python",
   "nbconvert_exporter": "python",
   "pygments_lexer": "ipython3",
   "version": "3.13.5"
  }
 },
 "nbformat": 4,
 "nbformat_minor": 5
}
